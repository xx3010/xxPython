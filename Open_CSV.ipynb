{
 "cells": [
  {
   "cell_type": "markdown",
   "metadata": {},
   "source": [
    "Use Python Stardand"
   ]
  },
  {
   "cell_type": "code",
   "execution_count": 1,
   "metadata": {},
   "outputs": [
    {
     "name": "stdout",
     "output_type": "stream",
     "text": [
      "C:\\Python\n"
     ]
    }
   ],
   "source": [
    "cd C:\\Python"
   ]
  },
  {
   "cell_type": "code",
   "execution_count": 2,
   "metadata": {},
   "outputs": [
    {
     "name": "stdout",
     "output_type": "stream",
     "text": [
      "a,b,c\n",
      "2,5.6,1\n",
      "1,7.0,0\n",
      "3,6.2,1\n",
      "3,7.9,1\n"
     ]
    }
   ],
   "source": [
    "f=open('data.csv')\n",
    "for line in f.readlines():\n",
    "    print (line.strip('\\n'))"
   ]
  },
  {
   "cell_type": "code",
   "execution_count": 3,
   "metadata": {},
   "outputs": [],
   "source": [
    "f.close()"
   ]
  },
  {
   "cell_type": "code",
   "execution_count": 4,
   "metadata": {},
   "outputs": [
    {
     "name": "stdout",
     "output_type": "stream",
     "text": [
      "a,b,c\n",
      "2,5.6,1\n",
      "1,7.0,0\n",
      "3,6.2,1\n",
      "3,7.9,1\n"
     ]
    }
   ],
   "source": [
    "with open('data.csv', 'r') as f:\n",
    "    for line in f.readlines():\n",
    "        print(line.strip('\\n'))"
   ]
  },
  {
   "cell_type": "markdown",
   "metadata": {},
   "source": [
    "Use CSV Module"
   ]
  },
  {
   "cell_type": "code",
   "execution_count": 5,
   "metadata": {},
   "outputs": [],
   "source": [
    "import csv\n",
    "def open_with_python_csv(filename):\n",
    "    data = []\n",
    "    with open(filename, 'r') as filename:\n",
    "        reader = csv.reader(filename)\n",
    "        # ヘッダ行は特別扱い\n",
    "        header = next(reader)\n",
    "        # 中身\n",
    "        for row in reader:\n",
    "            data.append(row)\n",
    "    return header, data"
   ]
  },
  {
   "cell_type": "code",
   "execution_count": 6,
   "metadata": {},
   "outputs": [
    {
     "name": "stdout",
     "output_type": "stream",
     "text": [
      "['a', 'b', 'c']\n",
      "[['2', '5.6', '1'], ['1', '7.0', '0'], ['3', '6.2', '1'], ['3', '7.9', '1']]\n"
     ]
    }
   ],
   "source": [
    "header, data = open_with_python_csv('data.csv')\n",
    "print(header)\n",
    "print(data)"
   ]
  },
  {
   "cell_type": "markdown",
   "metadata": {},
   "source": [
    "Use Pandas Module"
   ]
  },
  {
   "cell_type": "code",
   "execution_count": 7,
   "metadata": {},
   "outputs": [],
   "source": [
    "import pandas\n",
    "\n",
    "def open_with_pandas(filename):\n",
    "    df = pandas.read_csv(filename)\n",
    "    header = df.columns.values.tolist()\n",
    "    data = df.values\n",
    "    return df, header, data"
   ]
  },
  {
   "cell_type": "code",
   "execution_count": 8,
   "metadata": {},
   "outputs": [
    {
     "name": "stdout",
     "output_type": "stream",
     "text": [
      "['a', 'b', 'c']\n",
      "[[2.  5.6 1. ]\n",
      " [1.  7.  0. ]\n",
      " [3.  6.2 1. ]\n",
      " [3.  7.9 1. ]]\n"
     ]
    }
   ],
   "source": [
    "df, header, data = open_with_pandas('data.csv')\n",
    "print(header)\n",
    "print(data)"
   ]
  },
  {
   "cell_type": "markdown",
   "metadata": {},
   "source": [
    "Use Numpy Module"
   ]
  },
  {
   "cell_type": "code",
   "execution_count": 9,
   "metadata": {},
   "outputs": [],
   "source": [
    "import numpy as np\n",
    "def open_with_numpy_loadtxt_2(filename):\n",
    "    with open(filename, 'r') as file:\n",
    "        line = file.readline()\n",
    "        header = line.strip().split(',')\n",
    "        data = np.loadtxt(file, delimiter=',')\n",
    "    return header, data"
   ]
  },
  {
   "cell_type": "code",
   "execution_count": 10,
   "metadata": {},
   "outputs": [
    {
     "name": "stdout",
     "output_type": "stream",
     "text": [
      "['a', 'b', 'c']\n",
      "[[2.  5.6 1. ]\n",
      " [1.  7.  0. ]\n",
      " [3.  6.2 1. ]\n",
      " [3.  7.9 1. ]]\n"
     ]
    }
   ],
   "source": [
    "header, data = open_with_numpy_loadtxt_2('data.csv')\n",
    "print(header)\n",
    "print(data)"
   ]
  },
  {
   "cell_type": "code",
   "execution_count": null,
   "metadata": {},
   "outputs": [],
   "source": []
  }
 ],
 "metadata": {
  "kernelspec": {
   "display_name": "Python 3",
   "language": "python",
   "name": "python3"
  },
  "language_info": {
   "codemirror_mode": {
    "name": "ipython",
    "version": 3
   },
   "file_extension": ".py",
   "mimetype": "text/x-python",
   "name": "python",
   "nbconvert_exporter": "python",
   "pygments_lexer": "ipython3",
   "version": "3.6.5"
  }
 },
 "nbformat": 4,
 "nbformat_minor": 2
}
